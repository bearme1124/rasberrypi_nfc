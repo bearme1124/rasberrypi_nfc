{
 "cells": [
  {
   "cell_type": "code",
   "execution_count": 1,
   "metadata": {},
   "outputs": [],
   "source": [
    "# 정은호, 서정규 등록 안됨."
   ]
  },
  {
   "cell_type": "code",
   "execution_count": 2,
   "metadata": {},
   "outputs": [],
   "source": [
    "import pandas as pd\n",
    "import datetime\n",
    "import numpy as np"
   ]
  },
  {
   "cell_type": "code",
   "execution_count": 3,
   "metadata": {},
   "outputs": [
    {
     "ename": "NameError",
     "evalue": "name 'df_ID' is not defined",
     "output_type": "error",
     "traceback": [
      "\u001b[0;31m---------------------------------------------------------------------------\u001b[0m",
      "\u001b[0;31mNameError\u001b[0m                                 Traceback (most recent call last)",
      "\u001b[1;32m/Users/admin/Development/ws_Raspberry/rasberrypi_nfc/process_data.ipynb Cell 3\u001b[0m in \u001b[0;36m<cell line: 1>\u001b[0;34m()\u001b[0m\n\u001b[0;32m----> <a href='vscode-notebook-cell:/Users/admin/Development/ws_Raspberry/rasberrypi_nfc/process_data.ipynb#W2sZmlsZQ%3D%3D?line=0'>1</a>\u001b[0m df[\u001b[39m'\u001b[39m\u001b[39mStudent ID\u001b[39m\u001b[39m'\u001b[39m] \u001b[39m=\u001b[39m [\u001b[39m'\u001b[39m\u001b[39mNone\u001b[39m\u001b[39m'\u001b[39m] \u001b[39m*\u001b[39m \u001b[39mlen\u001b[39m(df_ID)\n\u001b[1;32m      <a href='vscode-notebook-cell:/Users/admin/Development/ws_Raspberry/rasberrypi_nfc/process_data.ipynb#W2sZmlsZQ%3D%3D?line=1'>2</a>\u001b[0m df[\u001b[39m'\u001b[39m\u001b[39mName\u001b[39m\u001b[39m'\u001b[39m] \u001b[39m=\u001b[39m [\u001b[39m'\u001b[39m\u001b[39mNone\u001b[39m\u001b[39m'\u001b[39m] \u001b[39m*\u001b[39m \u001b[39mlen\u001b[39m(df_ID)\n\u001b[1;32m      <a href='vscode-notebook-cell:/Users/admin/Development/ws_Raspberry/rasberrypi_nfc/process_data.ipynb#W2sZmlsZQ%3D%3D?line=2'>3</a>\u001b[0m df[\u001b[39m'\u001b[39m\u001b[39mUID\u001b[39m\u001b[39m'\u001b[39m] \u001b[39m=\u001b[39m [\u001b[39m'\u001b[39m\u001b[39mNone\u001b[39m\u001b[39m'\u001b[39m] \u001b[39m*\u001b[39m \u001b[39mlen\u001b[39m(df_ID)\n",
      "\u001b[0;31mNameError\u001b[0m: name 'df_ID' is not defined"
     ]
    }
   ],
   "source": [
    "df['Student ID'] = ['None'] * len(df_ID)\n",
    "df['Name'] = ['None'] * len(df_ID)\n",
    "df['UID'] = ['None'] * len(df_ID)\n",
    "\n",
    "for i in range(len(df_data)):\n",
    "    sid = df_ID['Student ID'][i]\n",
    "    name = df_ID.loc[df_ID['Student ID']==sid, 'Name'].values[0]\n",
    "\n",
    "    try:\n",
    "        uid = df_data.loc[df_data['Student ID']==sid, 'UID'].values[0]\n",
    "    except IndexError:\n",
    "        uid = None\n",
    "\n",
    "    df['Student ID'][i] = sid\n",
    "    df['Name'][i] = name\n",
    "    df['UID'][i] = uid\n",
    "    print(sid, name, uid)\n",
    "    # 정은호 등록 안됨 이슈"
   ]
  }
 ],
 "metadata": {
  "kernelspec": {
   "display_name": "Python 3.9.7 ('base')",
   "language": "python",
   "name": "python3"
  },
  "language_info": {
   "codemirror_mode": {
    "name": "ipython",
    "version": 3
   },
   "file_extension": ".py",
   "mimetype": "text/x-python",
   "name": "python",
   "nbconvert_exporter": "python",
   "pygments_lexer": "ipython3",
   "version": "3.10.6"
  },
  "orig_nbformat": 4,
  "vscode": {
   "interpreter": {
    "hash": "76ea84b04a444bde88b8d8580f15829239d2f7b6d89807185b1d6faaae65b10a"
   }
  }
 },
 "nbformat": 4,
 "nbformat_minor": 2
}
