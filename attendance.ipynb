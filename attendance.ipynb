{
 "cells": [
  {
   "cell_type": "code",
   "execution_count": 8,
   "metadata": {},
   "outputs": [],
   "source": [
    "import pandas as pd\n",
    "import datetime"
   ]
  },
  {
   "attachments": {},
   "cell_type": "markdown",
   "metadata": {},
   "source": [
    "수강생 중간고사 기준 132명"
   ]
  },
  {
   "cell_type": "code",
   "execution_count": 9,
   "metadata": {},
   "outputs": [],
   "source": [
    "df_data = pd.read_csv('./data/data.csv')\n",
    "df_att = pd.read_csv('./data/attendance.csv')"
   ]
  },
  {
   "cell_type": "code",
   "execution_count": 10,
   "metadata": {},
   "outputs": [],
   "source": [
    "#index 지우기\n",
    "#df_att.drop(labels='Unnamed: 0', axis=1)"
   ]
  },
  {
   "attachments": {},
   "cell_type": "markdown",
   "metadata": {},
   "source": [
    "# 날짜 확인하세요!\n",
    "## csv 파일 첫줄에 아래의 label 삽입하세요!"
   ]
  },
  {
   "cell_type": "code",
   "execution_count": 11,
   "metadata": {},
   "outputs": [],
   "source": [
    "# Student ID,UID,Time,Date"
   ]
  },
  {
   "cell_type": "code",
   "execution_count": 12,
   "metadata": {},
   "outputs": [],
   "source": [
    "class_date = '2023-04-27'\n",
    "df_class = pd.read_csv('./data/card_data_'+class_date+'.csv')"
   ]
  },
  {
   "cell_type": "code",
   "execution_count": 13,
   "metadata": {},
   "outputs": [],
   "source": [
    "df_att[class_date] = ['X'] * len(df_att)\n",
    "\n",
    "for i in range(len(df_class)):\n",
    "    (hour, minute, second) = df_class['Time'][i].split(\":\")\n",
    "\n",
    "    if(int(hour) > 16 and int(minute) > 5):\n",
    "        df_att.loc[df_att['Student ID'] == df_class['Student ID'][i], class_date] = 'L'\n",
    "    else:\n",
    "        df_att.loc[df_att['Student ID'] == df_class['Student ID'][i], class_date] = 'A'\n",
    "\n",
    "#수기 출석(최한슬 202211211)\n",
    "df_att.loc[df_att['Student ID'] == 202211222, class_date] = 'A'\n",
    "#df_att.loc[df_att['Student ID'] == 202211205, class_date] = 'L'\n",
    "\n",
    "df_att.to_csv('./data/attendance.csv', index=False)"
   ]
  }
 ],
 "metadata": {
  "kernelspec": {
   "display_name": "MouseStudy",
   "language": "python",
   "name": "python3"
  },
  "language_info": {
   "codemirror_mode": {
    "name": "ipython",
    "version": 3
   },
   "file_extension": ".py",
   "mimetype": "text/x-python",
   "name": "python",
   "nbconvert_exporter": "python",
   "pygments_lexer": "ipython3",
   "version": "3.10.6"
  },
  "orig_nbformat": 4,
  "vscode": {
   "interpreter": {
    "hash": "932df198d7dcd685ab299fc36149492c0480a183e04d308adef0af65ac800552"
   }
  }
 },
 "nbformat": 4,
 "nbformat_minor": 2
}
