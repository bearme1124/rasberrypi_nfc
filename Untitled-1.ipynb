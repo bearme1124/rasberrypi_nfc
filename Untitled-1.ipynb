{
 "cells": [
  {
   "cell_type": "code",
   "execution_count": 86,
   "metadata": {},
   "outputs": [],
   "source": [
    "import pandas as pd\n",
    "import datetime\n",
    "\n",
    "df_ID = pd.read_csv('./StudentID.csv')\n",
    "df_att = pd.read_csv('./Attendance.csv')\n",
    "df_data = pd.read_csv('./data_card.csv')\n",
    "\n",
    "df = pd.DataFrame()"
   ]
  },
  {
   "cell_type": "code",
   "execution_count": 87,
   "metadata": {},
   "outputs": [
    {
     "name": "stdout",
     "output_type": "stream",
     "text": [
      "201611090 13  a5  61  b5  \n",
      "201711163 0b  ab  f2  4d  \n",
      "201811020 62  6d  ae  e5  \n",
      "201811057 93  e6  61  b5  \n",
      "201811058 92  e2  aa  e5  \n",
      "201811069 42  82  ad  e5  \n",
      "201811075 7b  26  db  4e  \n",
      "201811128 42  31  b0  e5  \n",
      "201811147 73  5e  60  b5  \n",
      "201811157 82  e9  aa  e5  \n",
      "201811201 93  29  5e  b5  \n",
      "201911106 b3  72  63  b5  \n",
      "201911112 b3  87  62  b5  \n",
      "201911193 fb  4d  de  4e  \n",
      "202011003 bb  bf  e0  4e  \n",
      "202011006 d3  7b  5d  b5  \n",
      "202011007 9e  f8  20  14  \n",
      "202011011 03  47  62  b5  \n",
      "202011012 12  90  ab  e5  \n",
      "202011013 9b  e3  96  4e  \n",
      "202011014 43  4c  66  b5  \n",
      "202011018 c3  c1  63  b5  \n",
      "202011032 22  48  ad  e5  \n",
      "202011037 03  04  62  b5  \n",
      "202011043 23  49  63  b5  \n",
      "202011044 23  8c  67  b5  \n",
      "202011047 f3  41  68  b5  \n",
      "202011061 63  c0  5d  b5  \n",
      "202011062 c3  77  5d  b5  \n",
      "202011083 d3  1b  60  b5  \n",
      "202011108 62  d3  af  e5  \n",
      "202011125 22  ab  ae  e5  \n",
      "202011127 82  5d  af  e5  \n",
      "202011133 3b  5a  7a  4e  \n",
      "202011145 c2  db  aa  e5  \n",
      "202011162 6b  c4  d0  4e  \n",
      "202011168 e2  88  aa  e5  \n",
      "202011169 02  69  a8  e5  \n",
      "202011175 f2  d0  af  e5  \n",
      "202011184 92  df  94  e5  \n",
      "202011192 12  ab  ae  e5  \n",
      "202011194 22  d7  af  e5  \n",
      "202011197 f2  5b  b0  e5  \n"
     ]
    },
    {
     "ename": "IndexError",
     "evalue": "index 0 is out of bounds for axis 0 with size 0",
     "output_type": "error",
     "traceback": [
      "\u001b[0;31m---------------------------------------------------------------------------\u001b[0m",
      "\u001b[0;31mIndexError\u001b[0m                                Traceback (most recent call last)",
      "Cell \u001b[0;32mIn[87], line 7\u001b[0m\n\u001b[1;32m      5\u001b[0m \u001b[39mfor\u001b[39;00m i \u001b[39min\u001b[39;00m \u001b[39mrange\u001b[39m(\u001b[39mlen\u001b[39m(df_data)):\n\u001b[1;32m      6\u001b[0m     sid \u001b[39m=\u001b[39m df_ID[\u001b[39m'\u001b[39m\u001b[39mStudent ID\u001b[39m\u001b[39m'\u001b[39m][i]\n\u001b[0;32m----> 7\u001b[0m     uid \u001b[39m=\u001b[39m df_data\u001b[39m.\u001b[39;49mloc[df_data[\u001b[39m'\u001b[39;49m\u001b[39mStudent ID\u001b[39;49m\u001b[39m'\u001b[39;49m]\u001b[39m==\u001b[39;49msid, \u001b[39m'\u001b[39;49m\u001b[39mUID\u001b[39;49m\u001b[39m'\u001b[39;49m]\u001b[39m.\u001b[39;49mvalues[\u001b[39m0\u001b[39;49m]\n\u001b[1;32m      9\u001b[0m     \u001b[39mprint\u001b[39m(sid, uid)\n",
      "\u001b[0;31mIndexError\u001b[0m: index 0 is out of bounds for axis 0 with size 0"
     ]
    }
   ],
   "source": [
    "df['Student ID'] = ['None'] * len(df_ID)\n",
    "df['Name'] = ['None'] * len(df_ID)\n",
    "df['UID'] = ['None'] * len(df_ID)\n",
    "\n",
    "for i in range(len(df_data)):\n",
    "    sid = df_ID['Student ID'][i]\n",
    "    uid = df_data.loc[df_data['Student ID']==sid, 'UID'].values[0]\n",
    "\n",
    "    print(sid, uid)\n",
    "    # 정은호 등록 안됨 이슈\n"
   ]
  }
 ],
 "metadata": {
  "kernelspec": {
   "display_name": "base",
   "language": "python",
   "name": "python3"
  },
  "language_info": {
   "codemirror_mode": {
    "name": "ipython",
    "version": 3
   },
   "file_extension": ".py",
   "mimetype": "text/x-python",
   "name": "python",
   "nbconvert_exporter": "python",
   "pygments_lexer": "ipython3",
   "version": "3.9.15"
  },
  "orig_nbformat": 4
 },
 "nbformat": 4,
 "nbformat_minor": 2
}
