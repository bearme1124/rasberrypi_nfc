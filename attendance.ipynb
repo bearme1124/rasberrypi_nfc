{
 "cells": [
  {
   "cell_type": "code",
   "execution_count": 10,
   "metadata": {},
   "outputs": [],
   "source": [
    "import pandas as pd\n",
    "import datetime"
   ]
  },
  {
   "cell_type": "code",
   "execution_count": 11,
   "metadata": {},
   "outputs": [],
   "source": [
    "df_data = pd.read_csv('./data/data.csv')\n",
    "df_att = pd.read_csv('./data/attendance.csv')"
   ]
  },
  {
   "cell_type": "code",
   "execution_count": 12,
   "metadata": {},
   "outputs": [],
   "source": [
    "#index 지우기\n",
    "#df_att.drop(labels='Unnamed: 0', axis=1)"
   ]
  },
  {
   "attachments": {},
   "cell_type": "markdown",
   "metadata": {},
   "source": [
    "# 날짜 확인하세요!"
   ]
  },
  {
   "cell_type": "code",
   "execution_count": 13,
   "metadata": {},
   "outputs": [],
   "source": [
    "class_date = '2023-03-28'\n",
    "df_class = pd.read_csv('./data/card_data_'+class_date+'.csv')"
   ]
  },
  {
   "cell_type": "code",
   "execution_count": 14,
   "metadata": {},
   "outputs": [],
   "source": [
    "df_att[class_date] = ['X'] * len(df_att)\n",
    "\n",
    "for i in range(len(df_class)):\n",
    "    (hour, minute, second) = df_class['Time'][i].split(\":\")\n",
    "\n",
    "    if(int(hour) > 16 and int(minute)>5):\n",
    "        df_att.loc[df_att['Student ID'] == df_class['Student ID'][i], class_date] = 'L'\n",
    "    else:\n",
    "        df_att.loc[df_att['Student ID'] == df_class['Student ID'][i], class_date] = 'A'\n",
    "\n",
    "#수기 출석(정은호 202011203)\n",
    "#df_att.loc[df_att['Student ID'] == 202011203, class_date] = 'A'\n",
    "#df_att.loc[df_att['Student ID'] == 201811075, class_date] = 'A'\n",
    "#df_att.loc[df_att['Student ID'] == 202211211, class_date] = 'A'\n",
    "\n",
    "df_att.to_csv('./data/attendance.csv', index=False)"
   ]
  }
 ],
 "metadata": {
  "kernelspec": {
   "display_name": "MouseStudy",
   "language": "python",
   "name": "python3"
  },
  "language_info": {
   "codemirror_mode": {
    "name": "ipython",
    "version": 3
   },
   "file_extension": ".py",
   "mimetype": "text/x-python",
   "name": "python",
   "nbconvert_exporter": "python",
   "pygments_lexer": "ipython3",
   "version": "3.10.6"
  },
  "orig_nbformat": 4
 },
 "nbformat": 4,
 "nbformat_minor": 2
}
