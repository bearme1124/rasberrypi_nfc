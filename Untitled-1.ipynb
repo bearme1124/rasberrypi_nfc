{
 "cells": [
  {
   "cell_type": "code",
   "execution_count": 7,
   "metadata": {},
   "outputs": [
    {
     "data": {
      "text/plain": [
       "0      백창환\n",
       "1      전기환\n",
       "2      정래현\n",
       "3       박건\n",
       "4      박건희\n",
       "      ... \n",
       "141    최효빈\n",
       "142    한주연\n",
       "143    홍지수\n",
       "144    황지영\n",
       "145    박지훈\n",
       "Name: Name, Length: 146, dtype: object"
      ]
     },
     "execution_count": 7,
     "metadata": {},
     "output_type": "execute_result"
    }
   ],
   "source": [
    "import pandas as pd\n",
    "\n",
    "df_ID = pd.read_csv('./studentID.csv')\n",
    "df_att = pd.read_csv('./Attendance.csv')\n",
    "\n",
    "df_att['Name']"
   ]
  }
 ],
 "metadata": {
  "kernelspec": {
   "display_name": "base",
   "language": "python",
   "name": "python3"
  },
  "language_info": {
   "codemirror_mode": {
    "name": "ipython",
    "version": 3
   },
   "file_extension": ".py",
   "mimetype": "text/x-python",
   "name": "python",
   "nbconvert_exporter": "python",
   "pygments_lexer": "ipython3",
   "version": "3.9.15"
  },
  "orig_nbformat": 4
 },
 "nbformat": 4,
 "nbformat_minor": 2
}
